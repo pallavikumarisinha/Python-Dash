{
  "nbformat": 4,
  "nbformat_minor": 0,
  "metadata": {
    "colab": {
      "provenance": [],
      "authorship_tag": "ABX9TyMa765Mec27c4Gq5y5vfdqK",
      "include_colab_link": true
    },
    "kernelspec": {
      "name": "python3",
      "display_name": "Python 3"
    },
    "language_info": {
      "name": "python"
    }
  },
  "cells": [
    {
      "cell_type": "markdown",
      "metadata": {
        "id": "view-in-github",
        "colab_type": "text"
      },
      "source": [
        "<a href=\"https://colab.research.google.com/github/pallavikumarisinha/Python-Dash/blob/main/Colab/Pivot_Table/Students_Details.ipynb\" target=\"_parent\"><img src=\"https://colab.research.google.com/assets/colab-badge.svg\" alt=\"Open In Colab\"/></a>"
      ]
    },
    {
      "cell_type": "markdown",
      "source": [],
      "metadata": {
        "id": "n6ABewKIpFpJ"
      }
    },
    {
      "cell_type": "code",
      "source": [
        "!pip install jupyter-dash\n",
        "!pip install dash-pivottable"
      ],
      "metadata": {
        "id": "TfPp-EP3mXMI"
      },
      "execution_count": null,
      "outputs": []
    },
    {
      "cell_type": "code",
      "execution_count": null,
      "metadata": {
        "id": "wuJpGmplmO8r"
      },
      "outputs": [],
      "source": [
        "from jupyter_dash import JupyterDash\n",
        "from dash import Dash,  html\n",
        "import dash_pivottable\n",
        "import pandas as pd\n",
        "\n",
        "df = pd.DataFrame({'Name': ['Ram', 'Shyam', 'Mina', 'Sita', 'Geeta'],\n",
        "                   'Gender': ['Male', 'Male', 'Female', 'Female', 'Female'],\n",
        "                   'Degree': ['Masters', 'Graduate', 'Graduate', 'Masters', 'Graduate'],\n",
        "                   'Marks': [27, 23, 21, 23, 24]})\n",
        "\n",
        "app = JupyterDash(__name__)\n",
        "app.layout = html.Div(children=[\n",
        "    html.H1(children='Students details', style={'padding-left': '30%', 'padding-top': '5px'}),\n",
        "    dash_pivottable.PivotTable(data=df.to_dict(\"records\"), cols=[\"Degree\", \"Gender\"], rows=[\"Name\"], vals=[\"Marks\"])\n",
        "     ])\n",
        "\n",
        "\n",
        "if __name__ == '__main__':\n",
        "    app.run_server(debug=True)\n"
      ]
    }
  ]
}